{
 "cells": [
  {
   "cell_type": "code",
   "execution_count": 4,
   "metadata": {},
   "outputs": [],
   "source": [
    "import librosa"
   ]
  },
  {
   "cell_type": "code",
   "execution_count": 5,
   "metadata": {},
   "outputs": [],
   "source": [
    "# Constants\n",
    "SPEC_FMIN = librosa.note_to_hz(['A0'])[0]\n",
    "HOP_LENGTH = 512\n",
    "BINS_PER_OCTAVE = 36\n",
    "SAMPLE_RATE = 22050\n",
    "\n",
    "FRAMES_PER_SEC = SAMPLE_RATE / HOP_LENGTH\n",
    "\n",
    "MIDI_MIN = librosa.note_to_midi('A0')\n",
    "MIDI_MAX = librosa.note_to_midi('C8')"
   ]
  },
  {
   "cell_type": "code",
   "execution_count": null,
   "metadata": {},
   "outputs": [],
   "source": []
  }
 ],
 "metadata": {
  "kernelspec": {
   "display_name": "Python 3",
   "language": "python",
   "name": "python3"
  },
  "language_info": {
   "codemirror_mode": {
    "name": "ipython",
    "version": 3
   },
   "file_extension": ".py",
   "mimetype": "text/x-python",
   "name": "python",
   "nbconvert_exporter": "python",
   "pygments_lexer": "ipython3",
   "version": "3.6.7"
  }
 },
 "nbformat": 4,
 "nbformat_minor": 2
}
