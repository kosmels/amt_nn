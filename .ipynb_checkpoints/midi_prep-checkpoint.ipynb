{
 "cells": [
  {
   "cell_type": "markdown",
   "metadata": {},
   "source": [
    "# Utilities for MIDI files preprocessing"
   ]
  },
  {
   "cell_type": "code",
   "execution_count": 2,
   "metadata": {},
   "outputs": [],
   "source": [
    "# Necessary libraries\n",
    "import numpy as np\n",
    "import pretty_midi\n",
    "import matplotlib.pyplot as plt\n",
    "import librosa, librosa.display\n",
    "from os import listdir"
   ]
  },
  {
   "cell_type": "code",
   "execution_count": 3,
   "metadata": {},
   "outputs": [
    {
     "name": "stdout",
     "output_type": "stream",
     "text": [
      "importing Jupyter notebook from constants.ipynb\n"
     ]
    }
   ],
   "source": [
    "import import_ipynb\n",
    "import constants as c"
   ]
  },
  {
   "cell_type": "code",
   "execution_count": 4,
   "metadata": {},
   "outputs": [],
   "source": [
    "# Allow pretty_midi to read MIDI files with absurdly high tick rates.\n",
    "# Useful for reading the MAPS dataset.\n",
    "# https://github.com/craffel/pretty-midi/issues/112\n",
    "# Reprinted from: https://github.com/tensorflow/magenta/blob/master/magenta/music/midi_io.py\n",
    "pretty_midi.pretty_midi.MAX_TICK = 1e10"
   ]
  },
  {
   "cell_type": "code",
   "execution_count": 4,
   "metadata": {},
   "outputs": [],
   "source": [
    "def plot_piano_roll(pm, fs=c.FRAMES_PER_SEC):\n",
    "    \"\"\"\n",
    "    - Visualization of MIDI data, which is a time-frequency matrix\n",
    "    - Reprinted from: https://github.com/craffel/pretty-midi/blob/master/Tutorial.ipynb\n",
    "    - Adjusted for our project\n",
    "    \"\"\"\n",
    "    plt.figure(figsize=(15, 5))\n",
    "    librosa.display.specshow(pm,\n",
    "                             hop_length=1, \n",
    "                             sr=fs, \n",
    "                             x_axis='time', \n",
    "                             y_axis='cqt_note')\n",
    "    plt.savefig(fname='piano_roll.jpeg', format='jpg')\n",
    "    \n",
    "\n",
    "def load_midi_sequences(path):\n",
    "    \"\"\"Load MIDI files from path into array of PrettyMIDI objects\"\"\"\n",
    "    files = listdir(path)\n",
    "    midi_files = [mid for mid in files if mid.endswith('.mid')]\n",
    "    \n",
    "    midis = []\n",
    "    for midi in midi_files:\n",
    "        pm = pretty_midi.PrettyMIDI(path + '\\\\' + midi)\n",
    "        midis.append(pm)\n",
    "    return midis\n",
    "\n",
    "def split_midi(midi_matrix, shift_split=c.FRAME_SLICE):\n",
    "    return midi_matrix[:, shift_split:len(midi_matrix[0])-shift_split]\n",
    "\n",
    "def pretty_midi_to_onset_matrix(pm, fs=c.FRAMES_PER_SEC):\n",
    "    \"\"\"Takes the input PrettyMIDI object and generate (one-hot) onset matrix\"\"\"\n",
    "    \n",
    "    # Allocate a matrix of zeros \n",
    "    one_hot = np.zeros(pm.get_piano_roll(fs=fs).shape)\n",
    "\n",
    "    for instrument in pm.instruments:\n",
    "        for note in instrument.notes:\n",
    "            # Find onset frame and set it to 1\n",
    "            frame = int(np.rint(note.start*fs))\n",
    "            one_hot[note.pitch, frame] = 1\n",
    "            for i in range(3):\n",
    "                back_frame = frame-i\n",
    "                front_frame = frame+i\n",
    "                if (back_frame >= 0):\n",
    "                    one_hot[note.pitch, back_frame] = 1\n",
    "                if (front_frame < one_hot[0].size):\n",
    "                    one_hot[note.pitch, front_frame] = 1\n",
    "    return one_hot[c.MIDI_MIN:c.MIDI_MAX+1, :]\n",
    "\n",
    "def pretty_midi_to_frame_matrix(pm):\n",
    "    \"\"\"Takes the input MIDI matrix and converts it to binary (one-hot)\"\"\"\n",
    "    \n",
    "    one_hot = [[1 if note != 0 else 0 for note in notes] for notes in pm]\n",
    "    return np.array(one_hot)"
   ]
  },
  {
   "cell_type": "code",
   "execution_count": 5,
   "metadata": {},
   "outputs": [],
   "source": [
    "# midi_path = r'MAPS\\AkPnBcht\\MUS'\n",
    "# midis = load_midi_sequences(midi_path)"
   ]
  },
  {
   "cell_type": "code",
   "execution_count": 61,
   "metadata": {
    "scrolled": true
   },
   "outputs": [],
   "source": [
    "# plt.figure(figsize=(15, 5))\n",
    "# plot_piano_roll(p, MIDI_MIN, MIDI_MAX+1)\n",
    "# plt.savefig(fname='piano_roll.jpeg', format='jpg')"
   ]
  },
  {
   "cell_type": "code",
   "execution_count": 8,
   "metadata": {},
   "outputs": [],
   "source": [
    "#[MIDI_MIN:MIDI_MAX+1 ,50:51]\n",
    "# p.get_piano_roll(fs=FRAMES_PER_SEC)[MIDI_MIN:MIDI_MAX+1, :].shape"
   ]
  },
  {
   "cell_type": "code",
   "execution_count": 9,
   "metadata": {},
   "outputs": [],
   "source": [
    "# midi_chunks = split_midi(p.get_piano_roll(fs=FRAMES_PER_SEC)[MIDI_MIN:MIDI_MAX+1, :])"
   ]
  },
  {
   "cell_type": "code",
   "execution_count": 10,
   "metadata": {},
   "outputs": [],
   "source": [
    "# for i in range(30, 40):\n",
    "#     librosa.display.specshow(midi_chunks[i][:, :],\n",
    "#                              hop_length=1, \n",
    "#                              sr=FRAMES_PER_SEC, \n",
    "#                              x_axis='time', \n",
    "#                              y_axis='cqt_note',\n",
    "#                              fmin=SPEC_FMIN)\n",
    "#     plt.show()"
   ]
  },
  {
   "cell_type": "code",
   "execution_count": 11,
   "metadata": {},
   "outputs": [],
   "source": [
    "# for i in pm.instruments:\n",
    "#     for n in i.notes:\n",
    "#         print(n.start)"
   ]
  },
  {
   "cell_type": "code",
   "execution_count": null,
   "metadata": {},
   "outputs": [],
   "source": []
  }
 ],
 "metadata": {
  "kernelspec": {
   "display_name": "Python 3",
   "language": "python",
   "name": "python3"
  },
  "language_info": {
   "codemirror_mode": {
    "name": "ipython",
    "version": 3
   },
   "file_extension": ".py",
   "mimetype": "text/x-python",
   "name": "python",
   "nbconvert_exporter": "python",
   "pygments_lexer": "ipython3",
   "version": "3.6.7"
  }
 },
 "nbformat": 4,
 "nbformat_minor": 2
}
