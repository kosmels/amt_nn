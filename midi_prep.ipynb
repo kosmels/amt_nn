{
 "cells": [
  {
   "cell_type": "markdown",
   "metadata": {},
   "source": []
  },
  {
   "cell_type": "code",
   "execution_count": 1,
   "metadata": {},
   "outputs": [],
   "source": [
    "import numpy as np\n",
    "import pretty_midi\n",
    "import matplotlib.pyplot as plt\n",
    "import librosa, librosa.display\n",
    "from os import listdir\n",
    "from magenta.music import midi_io"
   ]
  },
  {
   "cell_type": "code",
   "execution_count": 2,
   "metadata": {},
   "outputs": [],
   "source": [
    "# Allow pretty_midi to read MIDI files with absurdly high tick rates.\n",
    "# Useful for reading the MAPS dataset.\n",
    "# https://github.com/craffel/pretty-midi/issues/112\n",
    "# Reprinted from: https://github.com/tensorflow/magenta/blob/master/magenta/music/midi_io.py\n",
    "pretty_midi.pretty_midi.MAX_TICK = 1e10\n",
    "\n",
    "# Constants\n",
    "SPEC_FMIN = librosa.note_to_hz(['A0'])[0]\n",
    "HOP_LENGTH = 512\n",
    "BINS_PER_OCTAVE = 36\n",
    "SAMPLE_RATE = 22050\n",
    "FRAMES_PER_SEC = SAMPLE_RATE / HOP_LENGTH\n",
    "\n",
    "MIDI_MIN = librosa.note_to_midi('A0')\n",
    "MIDI_MAX = librosa.note_to_midi('C8')"
   ]
  },
  {
   "cell_type": "code",
   "execution_count": 4,
   "metadata": {},
   "outputs": [],
   "source": [
    "# Visualization of MIDI data, which is a time-frequency matrix\n",
    "# Reprinted from: https://github.com/craffel/pretty-midi/blob/master/Tutorial.ipynb\n",
    "# Adjusted for our project - @param pm should have 88 rows (piano)\n",
    "def plot_piano_roll(pm, fs=FRAMES_PER_SEC):\n",
    "    plt.figure(figsize=(15, 5))\n",
    "    librosa.display.specshow(pm,\n",
    "                             hop_length=1, \n",
    "                             sr=fs, \n",
    "                             x_axis='time', \n",
    "                             y_axis='cqt_note',\n",
    "                             fmin=SPEC_FMIN)\n",
    "    plt.savefig(fname='piano_roll.jpeg', format='jpg')\n",
    "    \n",
    "\n",
    "def load_midi_sequences(path):\n",
    "    \"\"\"Load MIDI files from path into array of PrettyMIDI objects\"\"\"\n",
    "    files = listdir(path)\n",
    "    midi_files = [mid for mid in files if mid.endswith('.mid')]\n",
    "    \n",
    "    midis = []\n",
    "    for midi in midi_files:\n",
    "        pm = pretty_midi.PrettyMIDI(path + '\\\\' + midi)\n",
    "        midis.append(pm)\n",
    "    return midis"
   ]
  },
  {
   "cell_type": "code",
   "execution_count": 5,
   "metadata": {},
   "outputs": [],
   "source": [
    "# midi_path = r'MAPS\\AkPnBcht\\MUS'\n",
    "# midis = load_midi_sequences(midi_path)"
   ]
  },
  {
   "cell_type": "code",
   "execution_count": 6,
   "metadata": {},
   "outputs": [],
   "source": [
    "# p = pretty_midi.PrettyMIDI(r'D:\\School\\Bc\\model\\MAPS\\AkPnBcht\\MUS\\MAPS_MUS-grieg_walzer_AkPnBcht.mid')"
   ]
  },
  {
   "cell_type": "code",
   "execution_count": 7,
   "metadata": {
    "scrolled": true
   },
   "outputs": [],
   "source": [
    "# plt.figure(figsize=(15, 5))\n",
    "# plot_piano_roll(p, MIDI_MIN, MIDI_MAX+1)\n",
    "# plt.savefig(fname='piano_roll.jpeg', format='jpg')"
   ]
  },
  {
   "cell_type": "code",
   "execution_count": 8,
   "metadata": {},
   "outputs": [],
   "source": [
    "#[MIDI_MIN:MIDI_MAX+1 ,50:51]\n",
    "# p.get_piano_roll(fs=FRAMES_PER_SEC)[MIDI_MIN:MIDI_MAX+1, :].shape"
   ]
  },
  {
   "cell_type": "code",
   "execution_count": 9,
   "metadata": {},
   "outputs": [],
   "source": [
    "# midi_chunks = split_midi(p.get_piano_roll(fs=FRAMES_PER_SEC)[MIDI_MIN:MIDI_MAX+1, :])"
   ]
  },
  {
   "cell_type": "code",
   "execution_count": 10,
   "metadata": {},
   "outputs": [],
   "source": [
    "# for i in range(30, 40):\n",
    "#     librosa.display.specshow(midi_chunks[i][:, :],\n",
    "#                              hop_length=1, \n",
    "#                              sr=FRAMES_PER_SEC, \n",
    "#                              x_axis='time', \n",
    "#                              y_axis='cqt_note',\n",
    "#                              fmin=SPEC_FMIN)\n",
    "#     plt.show()"
   ]
  },
  {
   "cell_type": "code",
   "execution_count": 11,
   "metadata": {},
   "outputs": [],
   "source": [
    "# for i in pm.instruments:\n",
    "#     for n in i.notes:\n",
    "#         print(n.start)"
   ]
  },
  {
   "cell_type": "code",
   "execution_count": null,
   "metadata": {},
   "outputs": [],
   "source": []
  }
 ],
 "metadata": {
  "kernelspec": {
   "display_name": "Python 3",
   "language": "python",
   "name": "python3"
  },
  "language_info": {
   "codemirror_mode": {
    "name": "ipython",
    "version": 3
   },
   "file_extension": ".py",
   "mimetype": "text/x-python",
   "name": "python",
   "nbconvert_exporter": "python",
   "pygments_lexer": "ipython3",
   "version": "3.6.7"
  }
 },
 "nbformat": 4,
 "nbformat_minor": 2
}
