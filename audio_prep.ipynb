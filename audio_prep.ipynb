{
 "cells": [
  {
   "cell_type": "code",
   "execution_count": 1,
   "metadata": {},
   "outputs": [
    {
     "name": "stdout",
     "output_type": "stream",
     "text": [
      "importing Jupyter notebook from constants.ipynb\n"
     ]
    }
   ],
   "source": [
    "\"\"\"\n",
    "Additional utils for (WAV) audio recordings processing.\n",
    "\n",
    "Created: 29/01/2019\n",
    "Author: © Silvester Kosmel\n",
    "\"\"\"\n",
    "\n",
    "import matplotlib\n",
    "import matplotlib.pyplot as plt\n",
    "import librosa, librosa.display\n",
    "import numpy as np, scipy\n",
    "from os import listdir\n",
    "\n",
    "import import_ipynb\n",
    "import constants as c"
   ]
  },
  {
   "cell_type": "code",
   "execution_count": null,
   "metadata": {},
   "outputs": [],
   "source": [
    "def create_spectrogram(wav_matrix):\n",
    "    \"\"\"\n",
    "    Plots and saves the spectrogram of given matrix.\n",
    "    \n",
    "    Args:\n",
    "        wav_matrix: result of STFT, CQT or Mel-frequency transform computation\n",
    "                    in format [time, frequency]\n",
    "    \"\"\"\n",
    "    \n",
    "    plt.figure(figsize=(15, 5))\n",
    "    logC = librosa.amplitude_to_db(wav_matrix)\n",
    "    librosa.display.specshow(\n",
    "        logC,\n",
    "        sr=c.SAMPLE_RATE,\n",
    "        x_axis='time',\n",
    "        y_axis='cqt_note',\n",
    "    )\n",
    "#   plt.axis('off')\n",
    "    plt.savefig(fname='spectrogram.png', format='png')\n",
    "\n",
    "def cqt_matrix(path):\n",
    "    \"\"\"\n",
    "    Load the audio from specific path and compute Constant-Q Transform.\n",
    "    \n",
    "    Args:\n",
    "        path: path to audio file (e.g. WAV)\n",
    "        \n",
    "    Returns:\n",
    "        np.abs(C): Constatnt-Q Transform of given audio as 2D NumPy array\n",
    "    \n",
    "    \"\"\"\n",
    "    \n",
    "    x, sr = librosa.load(path)\n",
    "    \n",
    "    if(sr != c.SAMPLE_RATE):\n",
    "        x = librosa.resample(x, sr, c.SAMPLE_RATE)\n",
    "    \n",
    "    C = librosa.cqt(x, \n",
    "                    sr=c.SAMPLE_RATE, \n",
    "                    fmin=c.SPEC_FMIN,\n",
    "                    bins_per_octave=c.BINS_PER_OCTAVE,\n",
    "                    hop_length=c.HOP_LENGTH,\n",
    "                    n_bins=c.BINS_NUMBER\n",
    "                   )\n",
    "    return np.abs(C)\n",
    "\n",
    "def split_wav(wav_matrix, slice_shift=c.CHUNK_PADDING):\n",
    "    \"\"\"\n",
    "    Split loaded WAV file into many chunks with specified padding\n",
    "    \n",
    "    \"\"\"\n",
    "    \n",
    "    specs = []\n",
    "    for i in range(slice_shift, wav_matrix[0].size-slice_shift):\n",
    "        specs.append(wav_matrix[:, i-slice_shift:i+slice_shift])\n",
    "    return specs\n",
    "\n",
    "def cqt_split_to_sequence(cqt_matrix,\n",
    "                          padding=c.CHUNK_PADDING,\n",
    "                          sequence_length=c.SEQUENCE_CHUNK_LENGTH):\n",
    "    \"\"\"\n",
    "    Split loaded WAV file into many chunks with specified length and padding\n",
    "    \n",
    "    Args:\n",
    "        cqt_matrix: CQT spectrogram of givne audio file\n",
    "        padding: padding at start and end of sequence\n",
    "        sequence_length: length of sequence in frames\n",
    "        \n",
    "    Returns:\n",
    "        sequence_chunks: list of sequences with given length and padding\n",
    "    \"\"\"\n",
    "    \n",
    "    sequence_chunks = []\n",
    "    start = padding\n",
    "    end = cqt_matrix[0].size - padding\n",
    "    for i in range(start, end, sequence_length):\n",
    "#         print(i)\n",
    "        sequence_chunks.append(cqt_matrix[:, i-padding:i+sequence_length+padding])\n",
    "    return sequence_chunks"
   ]
  },
  {
   "cell_type": "code",
   "execution_count": 3,
   "metadata": {},
   "outputs": [],
   "source": [
    "# cqt = cqt_matrix('D:\\School\\Bc\\model\\MAPS\\AkPnBcht\\MUS\\MAPS_MUS-grieg_walzer_AkPnBcht.wav')"
   ]
  },
  {
   "cell_type": "code",
   "execution_count": 3,
   "metadata": {},
   "outputs": [],
   "source": [
    "# splited_cqt = cqt_split_to_sequence(cqt[:, :3388])"
   ]
  },
  {
   "cell_type": "code",
   "execution_count": 4,
   "metadata": {},
   "outputs": [],
   "source": [
    "# cqt.shape, splited_cqt[0].shape, splited_cqt[5].shape"
   ]
  },
  {
   "cell_type": "code",
   "execution_count": 5,
   "metadata": {},
   "outputs": [],
   "source": [
    "# create_spectrogram(splited_cqt[0][:, 2:33])"
   ]
  },
  {
   "cell_type": "code",
   "execution_count": 6,
   "metadata": {},
   "outputs": [],
   "source": [
    "# shift = 10e-07\n",
    "# box_cqt = []\n",
    "# for i in cqt:\n",
    "#     for j in i:\n",
    "#         if j == 0:\n",
    "#             box_cqt.append(shift)\n",
    "#         else:\n",
    "#             box_cqt.append(j)\n",
    "\n",
    "# from scipy import stats\n",
    "# train_data, fitted_lambda = stats.boxcox(box_cqt)"
   ]
  },
  {
   "cell_type": "code",
   "execution_count": 7,
   "metadata": {},
   "outputs": [],
   "source": [
    "# m = np.max(train_data)\n",
    "# n = np.min(train_data)\n",
    "# d = m-n;\n",
    "\n",
    "# norm = [2*((x-n)/d)-1.35 for x in train_data]\n",
    "\n",
    "# plt.hist(norm, bins=50)\n",
    "# sps = split_wav(cqt_matrix('D:\\School\\Bc\\model\\MAPS\\AkPnBcht\\MUS\\MAPS_MUS-grieg_walzer_AkPnBcht.wav'))"
   ]
  },
  {
   "cell_type": "code",
   "execution_count": 138,
   "metadata": {},
   "outputs": [],
   "source": [
    "\n",
    "# for i in range(20):\n",
    "#     librosa.display.specshow(\n",
    "#         sps[i],\n",
    "#         sr=SAMPLE_RATE,\n",
    "#         x_axis='time',\n",
    "#         y_axis='cqt_note',\n",
    "#     )\n",
    "#     plt.show()"
   ]
  },
  {
   "cell_type": "code",
   "execution_count": null,
   "metadata": {},
   "outputs": [],
   "source": []
  }
 ],
 "metadata": {
  "kernelspec": {
   "display_name": "BPgpu",
   "language": "python",
   "name": "bpgpu"
  },
  "language_info": {
   "codemirror_mode": {
    "name": "ipython",
    "version": 3
   },
   "file_extension": ".py",
   "mimetype": "text/x-python",
   "name": "python",
   "nbconvert_exporter": "python",
   "pygments_lexer": "ipython3",
   "version": "3.6.7"
  }
 },
 "nbformat": 4,
 "nbformat_minor": 2
}
