{
 "cells": [
  {
   "cell_type": "code",
   "execution_count": 1,
   "metadata": {},
   "outputs": [
    {
     "name": "stdout",
     "output_type": "stream",
     "text": [
      "importing Jupyter notebook from constants.ipynb\n"
     ]
    }
   ],
   "source": [
    "import matplotlib\n",
    "import matplotlib.pyplot as plt\n",
    "import librosa, librosa.display\n",
    "import numpy as np, scipy\n",
    "from os import listdir\n",
    "\n",
    "import import_ipynb\n",
    "import constants as c"
   ]
  },
  {
   "cell_type": "code",
   "execution_count": 35,
   "metadata": {},
   "outputs": [],
   "source": [
    "def create_spectrogram(wav_matrix):\n",
    "    \"\"\"Create spectrogram from given audio matrix\"\"\"\n",
    "    plt.figure(figsize=(15, 5))\n",
    "    logC = librosa.amplitude_to_db(wav_matrix)\n",
    "    librosa.display.specshow(\n",
    "        logC,\n",
    "        sr=c.SAMPLE_RATE,\n",
    "        x_axis='time',\n",
    "        y_axis='cqt_note',\n",
    "    )\n",
    "#   plt.axis('off')\n",
    "    plt.savefig(fname='spectrogram.jpeg', format='jpg')\n",
    "\n",
    "def cqt_matrix(wav_file):\n",
    "    \"\"\"Load and \"\"\"\n",
    "    x, sr = librosa.load(wav_file)\n",
    "    \n",
    "    if(sr != c.SAMPLE_RATE):\n",
    "        x = librosa.resample(x, sr, c.SAMPLE_RATE)\n",
    "    \n",
    "    C = librosa.cqt(x, \n",
    "                    sr=c.SAMPLE_RATE, \n",
    "                    fmin=c.SPEC_FMIN,\n",
    "                    bins_per_octave=c.BINS_PER_OCTAVE,\n",
    "                    hop_length=c.HOP_LENGTH,\n",
    "                    n_bins=264\n",
    "                   )\n",
    "    return np.abs(C)\n",
    "\n",
    "def split_wav(wav_matrix, slice_shift=c.FRAME_SLICE):\n",
    "    \"\"\"Split loaded WAV file into many chunks with specified padding\"\"\"\n",
    "    specs = []\n",
    "    for i in range(slice_shift, wav_matrix[0].size-slice_shift):\n",
    "        specs.append(wav_matrix[:, i-slice_shift:i+slice_shift])\n",
    "    return specs"
   ]
  },
  {
   "cell_type": "code",
   "execution_count": 15,
   "metadata": {},
   "outputs": [],
   "source": [
    "# path = 'D:\\School\\Bc\\model\\MAPS\\AkPnBcht\\MUS'\n",
    "# specs = 'D:\\School\\Bc\\model\\spectrograms'\n",
    "# files = listdir(path)\n",
    "\n",
    "# wavs = [wav for wav in files if wav.endswith('.wav')]"
   ]
  },
  {
   "cell_type": "code",
   "execution_count": 4,
   "metadata": {},
   "outputs": [],
   "source": [
    "# cqt = cqt_matrix('D:\\School\\Bc\\model\\MAPS\\AkPnBcht\\MUS\\MAPS_MUS-grieg_walzer_AkPnBcht.wav')"
   ]
  },
  {
   "cell_type": "code",
   "execution_count": 113,
   "metadata": {},
   "outputs": [],
   "source": [
    "# shift = 10e-07\n",
    "# box_cqt = []\n",
    "# for i in cqt:\n",
    "#     for j in i:\n",
    "#         if j == 0:\n",
    "#             box_cqt.append(shift)\n",
    "#         else:\n",
    "#             box_cqt.append(j)\n",
    "\n",
    "# from scipy import stats\n",
    "# train_data, fitted_lambda = stats.boxcox(box_cqt)"
   ]
  },
  {
   "cell_type": "code",
   "execution_count": 137,
   "metadata": {},
   "outputs": [
    {
     "data": {
      "text/plain": [
       "(array([3.60000e+01, 2.00000e+00, 3.90000e+01, 4.00000e+01, 5.40000e+01,\n",
       "        9.00000e+00, 1.30000e+01, 3.60000e+01, 5.80000e+01, 4.30000e+01,\n",
       "        2.30000e+01, 3.80000e+01, 1.60000e+01, 3.50000e+01, 7.90000e+01,\n",
       "        8.10000e+01, 5.50000e+01, 8.50000e+01, 1.96000e+02, 3.17000e+02,\n",
       "        3.91000e+02, 4.61000e+02, 1.74680e+04, 2.65600e+03, 7.06900e+03,\n",
       "        1.30570e+04, 1.97410e+04, 2.91600e+04, 4.41960e+04, 6.61320e+04,\n",
       "        9.26070e+04, 1.19919e+05, 1.29415e+05, 1.22329e+05, 1.04487e+05,\n",
       "        9.77840e+04, 8.74530e+04, 7.59910e+04, 6.23540e+04, 4.75660e+04,\n",
       "        3.27160e+04, 2.34220e+04, 1.75030e+04, 1.48810e+04, 1.04150e+04,\n",
       "        7.64200e+03, 4.36500e+03, 2.57300e+03, 8.06000e+02, 3.40000e+01]),\n",
       " array([-1.35, -1.31, -1.27, -1.23, -1.19, -1.15, -1.11, -1.07, -1.03,\n",
       "        -0.99, -0.95, -0.91, -0.87, -0.83, -0.79, -0.75, -0.71, -0.67,\n",
       "        -0.63, -0.59, -0.55, -0.51, -0.47, -0.43, -0.39, -0.35, -0.31,\n",
       "        -0.27, -0.23, -0.19, -0.15, -0.11, -0.07, -0.03,  0.01,  0.05,\n",
       "         0.09,  0.13,  0.17,  0.21,  0.25,  0.29,  0.33,  0.37,  0.41,\n",
       "         0.45,  0.49,  0.53,  0.57,  0.61,  0.65]),\n",
       " <a list of 50 Patch objects>)"
      ]
     },
     "execution_count": 137,
     "metadata": {},
     "output_type": "execute_result"
    },
    {
     "data": {
      "image/png": "[encoded data removed]",
      "text/plain": [
       "<Figure size 432x288 with 1 Axes>"
      ]
     },
     "metadata": {
      "needs_background": "light"
     },
     "output_type": "display_data"
    }
   ],
   "source": [
    "# m = np.max(train_data)\n",
    "# n = np.min(train_data)\n",
    "# d = m-n;\n",
    "\n",
    "# norm = [2*((x-n)/d)-1.35 for x in train_data]\n",
    "\n",
    "# plt.hist(norm, bins=50)\n",
    "# sps = split_wav(cqt_matrix('D:\\School\\Bc\\model\\MAPS\\AkPnBcht\\MUS\\MAPS_MUS-grieg_walzer_AkPnBcht.wav'))"
   ]
  },
  {
   "cell_type": "code",
   "execution_count": 138,
   "metadata": {},
   "outputs": [],
   "source": [
    "\n",
    "# for i in range(20):\n",
    "#     librosa.display.specshow(\n",
    "#         sps[i],\n",
    "#         sr=SAMPLE_RATE,\n",
    "#         x_axis='time',\n",
    "#         y_axis='cqt_note',\n",
    "#     )\n",
    "#     plt.show()"
   ]
  },
  {
   "cell_type": "code",
   "execution_count": null,
   "metadata": {},
   "outputs": [],
   "source": []
  }
 ],
 "metadata": {
  "kernelspec": {
   "display_name": "Python 3",
   "language": "python",
   "name": "python3"
  },
  "language_info": {
   "codemirror_mode": {
    "name": "ipython",
    "version": 3
   },
   "file_extension": ".py",
   "mimetype": "text/x-python",
   "name": "python",
   "nbconvert_exporter": "python",
   "pygments_lexer": "ipython3",
   "version": "3.6.7"
  }
 },
 "nbformat": 4,
 "nbformat_minor": 2
}
