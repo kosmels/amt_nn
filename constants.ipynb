{
 "cells": [
  {
   "cell_type": "code",
   "execution_count": 4,
   "metadata": {},
   "outputs": [],
   "source": [
    "import librosa"
   ]
  },
  {
   "cell_type": "code",
   "execution_count": 5,
   "metadata": {},
   "outputs": [],
   "source": [
    "# Constants\n",
    "SPEC_FMIN = librosa.note_to_hz(['A0'])[0]\n",
    "HOP_LENGTH = 512\n",
    "BINS_PER_OCTAVE = 36\n",
    "BINS_PER_NOTE = 3\n",
    "BINS_NUMBER = (BINS_PER_OCTAVE * 7) + (BINS_PER_NOTE * 4)\n",
    "SAMPLE_RATE = 16000\n",
    "AUDIO_SEQUENCE_LENGTH = 20 # seconds\n",
    "\n",
    "FRAMES_PER_SEC = SAMPLE_RATE / HOP_LENGTH\n",
    "FRAME_LENGTH = HOP_LENGTH / SAMPLE_RATE\n",
    "CHUNK_PADDING = 2\n",
    "FRAME_SIZE = 2*CHUNK_PADDING\n",
    "# print(FRAME_LENGTH, FRAMES_PER_SEC)\n",
    "SEQUENCE_CHUNK_LENGTH = int(AUDIO_SEQUENCE_LENGTH / FRAME_LENGTH)\n",
    "# SEQUENCE_CHUNK_LENGTH = int(AUDIO_SEQUENCE_LENGTH // FRAME_LENGTH)\n",
    "\n",
    "DATASET_SHUFFLE_RATE = 1350# approx train dataset size\n",
    "VALID_DATASET_SIZE = 80 # approx valid dataset size\n",
    "BATCH_SIZE = 8\n",
    "STEPS_PER_EPOCH = int(DATASET_SHUFFLE_RATE // BATCH_SIZE)\n",
    "# print(SEQUENCE_CHUNK_LENGTH, STEPS_PER_EPOCH)\n",
    "\n",
    "MIDI_MIN = librosa.note_to_midi('A0')\n",
    "MIDI_MAX = librosa.note_to_midi('C8')"
   ]
  },
  {
   "cell_type": "code",
   "execution_count": null,
   "metadata": {},
   "outputs": [],
   "source": []
  }
 ],
 "metadata": {
  "kernelspec": {
   "display_name": "Python 3",
   "language": "python",
   "name": "python3"
  },
  "language_info": {
   "codemirror_mode": {
    "name": "ipython",
    "version": 3
   },
   "file_extension": ".py",
   "mimetype": "text/x-python",
   "name": "python",
   "nbconvert_exporter": "python",
   "pygments_lexer": "ipython3",
   "version": "3.6.7"
  }
 },
 "nbformat": 4,
 "nbformat_minor": 2
}
